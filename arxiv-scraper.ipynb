{
 "cells": [
  {
   "cell_type": "code",
   "execution_count": 21,
   "id": "fbce8ae3",
   "metadata": {},
   "outputs": [
    {
     "name": "stdout",
     "output_type": "stream",
     "text": [
      "✅ Saved 100 results to 'Blind channel estimation.docx', sorted by newest first.\n"
     ]
    }
   ],
   "source": [
    "import feedparser\n",
    "from docx import Document\n",
    "from datetime import datetime\n",
    "\n",
    "def search_arxiv_to_word_sorted(query, max_results):\n",
    "    filename=query + \".docx\"\n",
    "    query = \"+\".join(query.split())\n",
    "    base_url = 'http://export.arxiv.org/api/query?'\n",
    "    query_url = f'search_query=all:{query}&start=0&max_results={max_results}'\n",
    "    url = base_url + query_url\n",
    "    \n",
    "    feed = feedparser.parse(url)\n",
    "\n",
    "    # Sort entries by published date (descending)\n",
    "    entries = sorted(\n",
    "        feed.entries,\n",
    "        key=lambda entry: datetime.strptime(entry.published, '%Y-%m-%dT%H:%M:%SZ'),\n",
    "        reverse=True\n",
    "    )\n",
    "\n",
    "    # Create Word doc\n",
    "    doc = Document()\n",
    "    doc.add_heading(f'arXiv Results for: {query} (Sorted by Newest)', 0)\n",
    "\n",
    "    for i, entry in enumerate(entries, 1):\n",
    "        doc.add_heading(f'{i}. {entry.title}', level=1)\n",
    "        authors = ', '.join(author.name for author in entry.authors)\n",
    "        doc.add_paragraph(f\"Authors: {authors}\")\n",
    "        doc.add_paragraph(f\"Published: {entry.published}\")\n",
    "        doc.add_paragraph(\"Abstract:\", style='Intense Quote')\n",
    "        doc.add_paragraph(entry.summary.strip())\n",
    "        doc.add_paragraph(f\"PDF Link: {entry.link}\")\n",
    "        doc.add_paragraph(\"-\" * 50)\n",
    "\n",
    "    doc.save(filename)\n",
    "    print(f\"Saved {len(entries)} results to '{filename}', sorted by newest first.\")\n",
    "\n",
    "# Example usage\n",
    "search_arxiv_to_word_sorted(\"Blind channel estimation\", 100)\n"
   ]
  },
  {
   "cell_type": "code",
   "execution_count": null,
   "id": "c32d1cd1",
   "metadata": {},
   "outputs": [],
   "source": []
  }
 ],
 "metadata": {
  "kernelspec": {
   "display_name": "Python 3 (ipykernel)",
   "language": "python",
   "name": "python3"
  },
  "language_info": {
   "codemirror_mode": {
    "name": "ipython",
    "version": 3
   },
   "file_extension": ".py",
   "mimetype": "text/x-python",
   "name": "python",
   "nbconvert_exporter": "python",
   "pygments_lexer": "ipython3",
   "version": "3.11.3"
  }
 },
 "nbformat": 4,
 "nbformat_minor": 5
}
